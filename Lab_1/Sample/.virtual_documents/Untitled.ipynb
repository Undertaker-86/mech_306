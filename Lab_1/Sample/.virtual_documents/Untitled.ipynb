import scipy.io 
import numpy as np
import polars as pl
from pathlib import Path


folder_path = Path('./')
data_file = folder_path.glob('*.mat')


for data in data_file:
    mat_data = scipy.io.loadmat(data)
    impulse = mat_data.get("punch_impulse_pos", None)
    force_data = mat_data.get("force_data", None)




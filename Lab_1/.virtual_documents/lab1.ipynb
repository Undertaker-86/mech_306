import pandas as pd
import matplotlib.pyplot as plt


unfiltered = pd.read_csv("Preliminary Data - Colin & Gyan.csv", skiprows= 10)


unfiltered


ABS1 = unfiltered.iloc[1:12,:]
# ABS2 = unfiltered.iloc[12:23,:]
# ABS2.drop(index=ABS1.index[0], axis=0, inplace=True)
ABS2 = unfiltered.iloc[13:23,:]


display(ABS1)
display(ABS2)


plt.scatter(ABS1["Impulse (Ns)"], ABS1["Peak Force (N)"])


Gyan_ABS1 = ABS1[1:6]
Colin_ABS1 = ABS1[6:11]


sean_unfiltered = pd.read_csv("Preliminary Data - Sean.csv",  skiprows=10)
sean_unfiltered


sean_ABS1=sean_unfiltered[0:5]
sean_ABS1


Gyan_ABS1 = Gyan_ABS1.drop('Measurements', axis=1)
display(Gyan_ABS1)


Colin_ABS1 = Colin_ABS1.drop('Measurements', axis=1)
sean_ABS1 = sean_ABS1.drop('Measurements', axis=1)


mean_sean = sean_ABS1.mean()
std_sean = sean_ABS1.sem()
display(mean_sean)
display(std_sean)


sean_ABS1


categories = ["Impulse (Ns)", "Peak Force (N)"]
mean_sean = [13.07220, 36.00932]
std_sean = [1.768325, 1.687700]

# Create the plot
x = np.arange(len(categories))  # X-axis positions for the bars
fig, ax = plt.subplots()

# Bar chart with error bars
ax.bar(x, mean_sean, yerr=std_sean, capsize=5, color=['blue', 'green'], alpha=0.7)

# Customize the chart
ax.set_xticks(x)
ax.set_xticklabels(categories)
ax.set_ylabel("Values")
ax.set_title("Bar Chart for Impulse and Peak Force with Error Bars")

# Display the plot
plt.tight_layout()
plt.show()


categories = ["Impulse (Ns)", "Peak Force (N)"]
mean_sean = [13.07220, 36.00932]
max_sean = sean_ABS1.max()
min_sean = sean_ABS1.min()

# Calculate the error bars
upper_error = [max_val - mean for max_val, mean in zip(max_sean, mean_sean)]
lower_error = [mean - min_val for min_val, mean in zip(min_sean, mean_sean)]

# Error bar format for matplotlib (needs upper and lower error separately)
errors = [lower_error, upper_error]

# Create the plot
x = np.arange(len(categories))  # X-axis positions for the bars
fig, ax = plt.subplots()

# Bar chart with error bars
ax.bar(x, mean_sean, yerr=errors, capsize=5, color=['blue', 'green'], alpha=0.7)

# Customize the chart
ax.set_xticks(x)
ax.set_xticklabels(categories)
ax.set_ylabel("Values")
ax.set_title("Bar Chart with Max/Min as Error Bars")
# Display the plot
plt.tight_layout()
plt.legend()
plt.show()


df_ex = [mean_sean, upper_error, lower_error]


df_ex.plot(kind="bar")

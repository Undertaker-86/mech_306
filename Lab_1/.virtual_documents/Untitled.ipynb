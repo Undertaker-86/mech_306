import pandas as pd
import numpy as np
import matplotlib.pyplot as plt


df = pd.read_csv("Preliminary Data - Mfon.csv", skiprows=10)
df = df.rename(columns={"Calculated Force (N)" : "Impulse Force (N)"})
df


AL_10 = df.loc[df['Measurements'] == 'AL_10THOU']
AL_20 = df.loc[df['Measurements'] == 'AL_20THOU']
CU_10 = df.loc[df['Measurements'] == 'CU_10THOU']
ABS_10 = df.loc[df['Measurements'] == 'ABS_10THOU']
ABS_20 = df.loc[df['Measurements'] == 'ABS_20THOU']

display(AL_10)


labels = ['ABS_10', 'ABS_20', 'CU_10', 'ABS_10', 'ABS_20']
colors = ['#CE2D4F', '#CE6D8B', '#CEBBC9', '4056F4', '470FF4']
Force = 
fig ax - plt.subplots()
ax.set_ylabel('Force')


materials = ['AL_10THOU', 'AL_20THOU', 'CU_10THOU', 'ABS_10THOU', 'ABS_20THOU']
boxplot_data_impulse = []
boxplot_data_peak = []

for material in materials:
    material_data = df[df['Measurements'] == material]
    if not material_data.empty:
        boxplot_data_impulse.append(material_data['Impulse Force (N)'])
        boxplot_data_peak.append(material_data['Peak Force (N)'])

# Generate grouped box plot
fig, ax = plt.subplots(figsize=(10, 6))
# fig, ax = plt.subplots()
positions_impulse = [x * 2 for x in range(len(materials))]  # Positions for Impulse Force
positions_peak = [x * 2 + 1 for x in range(len(materials))]  # Positions for Peak Force

# Plot boxplots
bp_impulse = ax.boxplot(boxplot_data_impulse, positions=positions_impulse, patch_artist=True, widths=0.8, boxprops=dict(facecolor="#CE2D4F"))
bp_peak = ax.boxplot(boxplot_data_peak, positions=positions_peak, patch_artist=True, widths=0.8, boxprops=dict(facecolor="#4056F4"))

# Customize x-axis
ax.set_xticks([x * 2 + 0.5 for x in range(len(materials))])
ax.set_xticklabels(["AL 10 Thou", "AL 20  Thou", "CU 10 Thou", "ABS 10 Thou", "ABS 20 Thou"], rotation=20, ha='center')
ax.set_ylabel('Force (N)')
ax.set_title('Grouped Box Plot for Impulse and Peak Force')
ax.legend([bp_impulse["boxes"][0], bp_peak["boxes"][0]], ['Impulse Force', 'Peak Force'], loc='upper left')

# Show plot
plt.savefig("Final_analysis.png", dpi=450)
plt.show()


Sut_AL10 = 1/3 * np.pi * 0.25 * 0.0254 *  10e-3 * 0.0254 * 10386 * 6894.7572931783
Sut_AL10


Sut_AL10 = 1/3 * np.pi * 0.25/12 * 10*10e-3 / 12 * 10386
Sut_AL10

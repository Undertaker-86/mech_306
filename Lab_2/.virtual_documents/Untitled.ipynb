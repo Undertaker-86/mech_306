import pandas as pd
import numpy as np
import glob
import os
import matplotlib.pyplot as plt


txtfiles = glob.glob(os.path.join('.', '*.txt'))
txtfiles


for file in txtfiles:
    i = [1, 2]
    df = pd.read_csv(file, header=None, sep='     ')
    test = df.iloc[:,1]
    plt.scatter(i,test)


df = pd.read_csv("18mm_0_block.txt", header=None, sep='     ')
df.iloc[:,1]
